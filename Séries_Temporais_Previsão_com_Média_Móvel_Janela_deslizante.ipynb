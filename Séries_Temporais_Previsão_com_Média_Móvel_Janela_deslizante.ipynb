{
  "nbformat": 4,
  "nbformat_minor": 0,
  "metadata": {
    "colab": {
      "name": "Séries Temporais Previsão com Média Móvel - Janela deslizante.ipynb",
      "provenance": [],
      "collapsed_sections": []
    },
    "kernelspec": {
      "name": "python3",
      "display_name": "Python 3"
    }
  },
  "cells": [
    {
      "cell_type": "markdown",
      "metadata": {
        "id": "QlpfIUgdxIpd",
        "colab_type": "text"
      },
      "source": [
        "###Séries Temporais Previsão com Média Móvel - Janela deslizante"
      ]
    },
    {
      "cell_type": "code",
      "metadata": {
        "id": "cdeA2ebjW5kP",
        "colab_type": "code",
        "colab": {}
      },
      "source": [
        "from math import sqrt\n",
        "from pandas import read_csv\n",
        "from numpy import mean\n",
        "from sklearn.metrics import mean_squared_error\n",
        "from matplotlib import pyplot"
      ],
      "execution_count": 78,
      "outputs": []
    },
    {
      "cell_type": "code",
      "metadata": {
        "id": "ThqP9ZJgxD-G",
        "colab_type": "code",
        "colab": {}
      },
      "source": [
        ""
      ],
      "execution_count": null,
      "outputs": []
    },
    {
      "cell_type": "code",
      "metadata": {
        "id": "3ntrVMSRXENx",
        "colab_type": "code",
        "colab": {}
      },
      "source": [
        "#criando a variavel arquivo\n",
        "arquivo = ('champagne_sales.csv')"
      ],
      "execution_count": 79,
      "outputs": []
    },
    {
      "cell_type": "code",
      "metadata": {
        "id": "mjLsv-neXLY9",
        "colab_type": "code",
        "colab": {}
      },
      "source": [
        "#lendo a variavel arquivo\n",
        "serie = read_csv(arquivo, header=0, index_col=0, parse_dates=True, squeeze=True)"
      ],
      "execution_count": 80,
      "outputs": []
    },
    {
      "cell_type": "code",
      "metadata": {
        "id": "1WoP6n1AWiZ0",
        "colab_type": "code",
        "colab": {}
      },
      "source": [
        "#previsão com medias movel janelas deslizantes\n",
        "variavel = serie.values"
      ],
      "execution_count": 81,
      "outputs": []
    },
    {
      "cell_type": "code",
      "metadata": {
        "id": "LxyhPiacWjIb",
        "colab_type": "code",
        "colab": {
          "base_uri": "https://localhost:8080/",
          "height": 170
        },
        "outputId": "5b9abec6-8581-4f6a-f13c-2c6888658c27"
      },
      "source": [
        "#imprimindo a variavel\n",
        "print(variavel)"
      ],
      "execution_count": 82,
      "outputs": [
        {
          "output_type": "stream",
          "text": [
            "[ 2815  2672  2755  2721  2946  3036  2282  2212  2922  4301  5764  7312\n",
            "  2541  2475  3031  3266  3776  3230  3028  1759  3595  4474  6838  8357\n",
            "  3113  3006  4047  3523  3937  3986  3260  1573  3528  5211  7614  9254\n",
            "  5375  3088  3718  4514  4520  4539  3663  1643  4739  5428  8314 10651\n",
            "  3633  4292  4154  4121  4647  4753  3965  1723  5048  6922  9858 11331\n",
            "  4016  3957  4510  4276  4968  4677  3523  1821  5222  6872 10803 13916\n",
            "  2639  2899  3370  3740  2927  3986  4217  1738  5221  6424  9842 13076\n",
            "  3934  3162  4286  4676  5010  4874  4633  1659  5951  6981  9851 12670\n",
            "  4348  3564  4577  4788  4618  5312  4298  1413  5877]\n"
          ],
          "name": "stdout"
        }
      ]
    },
    {
      "cell_type": "code",
      "metadata": {
        "id": "F7DXKYPNWjLF",
        "colab_type": "code",
        "colab": {}
      },
      "source": [
        "#definindo a janela com 3 valores\n",
        "window = 3"
      ],
      "execution_count": 83,
      "outputs": []
    },
    {
      "cell_type": "code",
      "metadata": {
        "id": "L1ntYzx6WjQa",
        "colab_type": "code",
        "colab": {}
      },
      "source": [
        "#obtendo os 3 primeiros valors da serie\n",
        "history = [variavel[i] for i in range(window)]"
      ],
      "execution_count": 84,
      "outputs": []
    },
    {
      "cell_type": "code",
      "metadata": {
        "id": "vkop3e1wWjS-",
        "colab_type": "code",
        "colab": {
          "base_uri": "https://localhost:8080/",
          "height": 34
        },
        "outputId": "642aac21-92ff-4600-db0f-610cfde7db8d"
      },
      "source": [
        "#imprimindo as 3 valores\n",
        "history"
      ],
      "execution_count": 85,
      "outputs": [
        {
          "output_type": "execute_result",
          "data": {
            "text/plain": [
              "[2815, 2672, 2755]"
            ]
          },
          "metadata": {
            "tags": []
          },
          "execution_count": 85
        }
      ]
    },
    {
      "cell_type": "code",
      "metadata": {
        "id": "TrvTosJeWjVU",
        "colab_type": "code",
        "colab": {}
      },
      "source": [
        "#obtendo todos os valores apos os 3 primeiros\n",
        "test = [variavel[i] for i in range(window, len(variavel))]"
      ],
      "execution_count": 86,
      "outputs": []
    },
    {
      "cell_type": "code",
      "metadata": {
        "id": "UIDm8pTsWjXy",
        "colab_type": "code",
        "colab": {
          "base_uri": "https://localhost:8080/",
          "height": 54
        },
        "outputId": "10cc17e3-cb84-4fc5-8216-78d34e9e6596"
      },
      "source": [
        "#imprimindo o test\n",
        "print(test)"
      ],
      "execution_count": 87,
      "outputs": [
        {
          "output_type": "stream",
          "text": [
            "[2721, 2946, 3036, 2282, 2212, 2922, 4301, 5764, 7312, 2541, 2475, 3031, 3266, 3776, 3230, 3028, 1759, 3595, 4474, 6838, 8357, 3113, 3006, 4047, 3523, 3937, 3986, 3260, 1573, 3528, 5211, 7614, 9254, 5375, 3088, 3718, 4514, 4520, 4539, 3663, 1643, 4739, 5428, 8314, 10651, 3633, 4292, 4154, 4121, 4647, 4753, 3965, 1723, 5048, 6922, 9858, 11331, 4016, 3957, 4510, 4276, 4968, 4677, 3523, 1821, 5222, 6872, 10803, 13916, 2639, 2899, 3370, 3740, 2927, 3986, 4217, 1738, 5221, 6424, 9842, 13076, 3934, 3162, 4286, 4676, 5010, 4874, 4633, 1659, 5951, 6981, 9851, 12670, 4348, 3564, 4577, 4788, 4618, 5312, 4298, 1413, 5877]\n"
          ],
          "name": "stdout"
        }
      ]
    },
    {
      "cell_type": "code",
      "metadata": {
        "id": "pLFYmp6_Zbyj",
        "colab_type": "code",
        "colab": {}
      },
      "source": [
        "#criando uma variavel prediçoes para ver \n",
        "# a comparação no final\n",
        "predicoes = []"
      ],
      "execution_count": 88,
      "outputs": []
    },
    {
      "cell_type": "code",
      "metadata": {
        "id": "axyYzfamWjaM",
        "colab_type": "code",
        "colab": {
          "base_uri": "https://localhost:8080/",
          "height": 1000
        },
        "outputId": "c7b7f5c1-35d7-4947-826e-4b04dc4440e9"
      },
      "source": [
        "# Intera sobre os dados de teste...\n",
        "\n",
        "for t in range(len(test)):\n",
        "  # define a variavel length com o tamanho da variável history\n",
        "  length = len(history)\n",
        "  \n",
        "  # define a variável valor_predito com a média dos 3 valores correntes..                                                           \n",
        "  valor_predito = mean([history[i] for i in range(length - window, length)])        \n",
        "  \n",
        "  # define a variável valor_real com o valor atual do teste..\n",
        "  valor_real = test[t]                                                              \n",
        "  \n",
        "  # alimenta a lista de predicoes\n",
        "  predicoes.append(valor_predito)                                                  \n",
        "\n",
        "  # atualiza a lista history com os valores correntes..\n",
        "  history.append(valor_real)                                                        \n",
        "   \n",
        "  # imprime o valor predito e o real...\n",
        "  print('Valor predito=%f, Valor real=%f' % (valor_predito, valor_real))  "
      ],
      "execution_count": 89,
      "outputs": [
        {
          "output_type": "stream",
          "text": [
            "Valor predito=2747.333333, Valor real=2721.000000\n",
            "Valor predito=2716.000000, Valor real=2946.000000\n",
            "Valor predito=2807.333333, Valor real=3036.000000\n",
            "Valor predito=2901.000000, Valor real=2282.000000\n",
            "Valor predito=2754.666667, Valor real=2212.000000\n",
            "Valor predito=2510.000000, Valor real=2922.000000\n",
            "Valor predito=2472.000000, Valor real=4301.000000\n",
            "Valor predito=3145.000000, Valor real=5764.000000\n",
            "Valor predito=4329.000000, Valor real=7312.000000\n",
            "Valor predito=5792.333333, Valor real=2541.000000\n",
            "Valor predito=5205.666667, Valor real=2475.000000\n",
            "Valor predito=4109.333333, Valor real=3031.000000\n",
            "Valor predito=2682.333333, Valor real=3266.000000\n",
            "Valor predito=2924.000000, Valor real=3776.000000\n",
            "Valor predito=3357.666667, Valor real=3230.000000\n",
            "Valor predito=3424.000000, Valor real=3028.000000\n",
            "Valor predito=3344.666667, Valor real=1759.000000\n",
            "Valor predito=2672.333333, Valor real=3595.000000\n",
            "Valor predito=2794.000000, Valor real=4474.000000\n",
            "Valor predito=3276.000000, Valor real=6838.000000\n",
            "Valor predito=4969.000000, Valor real=8357.000000\n",
            "Valor predito=6556.333333, Valor real=3113.000000\n",
            "Valor predito=6102.666667, Valor real=3006.000000\n",
            "Valor predito=4825.333333, Valor real=4047.000000\n",
            "Valor predito=3388.666667, Valor real=3523.000000\n",
            "Valor predito=3525.333333, Valor real=3937.000000\n",
            "Valor predito=3835.666667, Valor real=3986.000000\n",
            "Valor predito=3815.333333, Valor real=3260.000000\n",
            "Valor predito=3727.666667, Valor real=1573.000000\n",
            "Valor predito=2939.666667, Valor real=3528.000000\n",
            "Valor predito=2787.000000, Valor real=5211.000000\n",
            "Valor predito=3437.333333, Valor real=7614.000000\n",
            "Valor predito=5451.000000, Valor real=9254.000000\n",
            "Valor predito=7359.666667, Valor real=5375.000000\n",
            "Valor predito=7414.333333, Valor real=3088.000000\n",
            "Valor predito=5905.666667, Valor real=3718.000000\n",
            "Valor predito=4060.333333, Valor real=4514.000000\n",
            "Valor predito=3773.333333, Valor real=4520.000000\n",
            "Valor predito=4250.666667, Valor real=4539.000000\n",
            "Valor predito=4524.333333, Valor real=3663.000000\n",
            "Valor predito=4240.666667, Valor real=1643.000000\n",
            "Valor predito=3281.666667, Valor real=4739.000000\n",
            "Valor predito=3348.333333, Valor real=5428.000000\n",
            "Valor predito=3936.666667, Valor real=8314.000000\n",
            "Valor predito=6160.333333, Valor real=10651.000000\n",
            "Valor predito=8131.000000, Valor real=3633.000000\n",
            "Valor predito=7532.666667, Valor real=4292.000000\n",
            "Valor predito=6192.000000, Valor real=4154.000000\n",
            "Valor predito=4026.333333, Valor real=4121.000000\n",
            "Valor predito=4189.000000, Valor real=4647.000000\n",
            "Valor predito=4307.333333, Valor real=4753.000000\n",
            "Valor predito=4507.000000, Valor real=3965.000000\n",
            "Valor predito=4455.000000, Valor real=1723.000000\n",
            "Valor predito=3480.333333, Valor real=5048.000000\n",
            "Valor predito=3578.666667, Valor real=6922.000000\n",
            "Valor predito=4564.333333, Valor real=9858.000000\n",
            "Valor predito=7276.000000, Valor real=11331.000000\n",
            "Valor predito=9370.333333, Valor real=4016.000000\n",
            "Valor predito=8401.666667, Valor real=3957.000000\n",
            "Valor predito=6434.666667, Valor real=4510.000000\n",
            "Valor predito=4161.000000, Valor real=4276.000000\n",
            "Valor predito=4247.666667, Valor real=4968.000000\n",
            "Valor predito=4584.666667, Valor real=4677.000000\n",
            "Valor predito=4640.333333, Valor real=3523.000000\n",
            "Valor predito=4389.333333, Valor real=1821.000000\n",
            "Valor predito=3340.333333, Valor real=5222.000000\n",
            "Valor predito=3522.000000, Valor real=6872.000000\n",
            "Valor predito=4638.333333, Valor real=10803.000000\n",
            "Valor predito=7632.333333, Valor real=13916.000000\n",
            "Valor predito=10530.333333, Valor real=2639.000000\n",
            "Valor predito=9119.333333, Valor real=2899.000000\n",
            "Valor predito=6484.666667, Valor real=3370.000000\n",
            "Valor predito=2969.333333, Valor real=3740.000000\n",
            "Valor predito=3336.333333, Valor real=2927.000000\n",
            "Valor predito=3345.666667, Valor real=3986.000000\n",
            "Valor predito=3551.000000, Valor real=4217.000000\n",
            "Valor predito=3710.000000, Valor real=1738.000000\n",
            "Valor predito=3313.666667, Valor real=5221.000000\n",
            "Valor predito=3725.333333, Valor real=6424.000000\n",
            "Valor predito=4461.000000, Valor real=9842.000000\n",
            "Valor predito=7162.333333, Valor real=13076.000000\n",
            "Valor predito=9780.666667, Valor real=3934.000000\n",
            "Valor predito=8950.666667, Valor real=3162.000000\n",
            "Valor predito=6724.000000, Valor real=4286.000000\n",
            "Valor predito=3794.000000, Valor real=4676.000000\n",
            "Valor predito=4041.333333, Valor real=5010.000000\n",
            "Valor predito=4657.333333, Valor real=4874.000000\n",
            "Valor predito=4853.333333, Valor real=4633.000000\n",
            "Valor predito=4839.000000, Valor real=1659.000000\n",
            "Valor predito=3722.000000, Valor real=5951.000000\n",
            "Valor predito=4081.000000, Valor real=6981.000000\n",
            "Valor predito=4863.666667, Valor real=9851.000000\n",
            "Valor predito=7594.333333, Valor real=12670.000000\n",
            "Valor predito=9834.000000, Valor real=4348.000000\n",
            "Valor predito=8956.333333, Valor real=3564.000000\n",
            "Valor predito=6860.666667, Valor real=4577.000000\n",
            "Valor predito=4163.000000, Valor real=4788.000000\n",
            "Valor predito=4309.666667, Valor real=4618.000000\n",
            "Valor predito=4661.000000, Valor real=5312.000000\n",
            "Valor predito=4906.000000, Valor real=4298.000000\n",
            "Valor predito=4742.666667, Valor real=1413.000000\n",
            "Valor predito=3674.333333, Valor real=5877.000000\n"
          ],
          "name": "stdout"
        }
      ]
    },
    {
      "cell_type": "code",
      "metadata": {
        "id": "NXIpq51MWjhk",
        "colab_type": "code",
        "colab": {}
      },
      "source": [
        "# calcula a métrica de rmse\n",
        "rmse = sqrt(mean_squared_error(test, predicoes))  "
      ],
      "execution_count": 90,
      "outputs": []
    },
    {
      "cell_type": "code",
      "metadata": {
        "id": "otO9yajMdfcv",
        "colab_type": "code",
        "colab": {
          "base_uri": "https://localhost:8080/",
          "height": 34
        },
        "outputId": "4d51eef2-4239-4eb5-82a9-efaf31c56e82"
      },
      "source": [
        "#imprimindo a  metrica\n",
        "print('Metrica RMSE: %.3f' %rmse)"
      ],
      "execution_count": 91,
      "outputs": [
        {
          "output_type": "stream",
          "text": [
            "Metrica RMSE: 2960.299\n"
          ],
          "name": "stdout"
        }
      ]
    },
    {
      "cell_type": "code",
      "metadata": {
        "id": "7FIOJMgKWjkC",
        "colab_type": "code",
        "colab": {
          "base_uri": "https://localhost:8080/",
          "height": 265
        },
        "outputId": "3ffdd651-a212-43c8-ee1f-52fbdd99b58c"
      },
      "source": [
        "# plot o valor real (test) e as predições \n",
        "pyplot.plot(test) \n",
        "pyplot.plot(predicoes, color='red')\n",
        "pyplot.show()"
      ],
      "execution_count": 92,
      "outputs": [
        {
          "output_type": "display_data",
          "data": {
            "image/png": "[encoded data removed]",
            "text/plain": [
              "<Figure size 432x288 with 1 Axes>"
            ]
          },
          "metadata": {
            "tags": [],
            "needs_background": "light"
          }
        }
      ]
    },
    {
      "cell_type": "code",
      "metadata": {
        "id": "iqHVR2Guv-O_",
        "colab_type": "code",
        "colab": {}
      },
      "source": [
        ""
      ],
      "execution_count": 92,
      "outputs": []
    },
    {
      "cell_type": "code",
      "metadata": {
        "id": "cfPR7rGlv-TU",
        "colab_type": "code",
        "colab": {}
      },
      "source": [
        "\n",
        "\n"
      ],
      "execution_count": null,
      "outputs": []
    },
    {
      "cell_type": "code",
      "metadata": {
        "id": "jnVBCnLFv-ad",
        "colab_type": "code",
        "colab": {}
      },
      "source": [
        ""
      ],
      "execution_count": null,
      "outputs": []
    },
    {
      "cell_type": "code",
      "metadata": {
        "id": "Q3GG_A2Dv-eZ",
        "colab_type": "code",
        "colab": {}
      },
      "source": [
        ""
      ],
      "execution_count": null,
      "outputs": []
    },
    {
      "cell_type": "code",
      "metadata": {
        "id": "aYBlou9Xv-X3",
        "colab_type": "code",
        "colab": {}
      },
      "source": [
        ""
      ],
      "execution_count": null,
      "outputs": []
    }
  ]
}